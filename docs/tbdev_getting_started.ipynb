{
 "cells": [
  {
   "cell_type": "markdown",
   "metadata": {
    "colab_type": "text",
    "id": "h3Nuf-G4xJ0u"
   },
   "source": [
    "##### Copyright 2019 The TensorFlow Authors."
   ]
  },
  {
   "cell_type": "code",
   "execution_count": null,
   "metadata": {
    "cellView": "form",
    "colab": {},
    "colab_type": "code",
    "id": "zZ81_4tLxSvd"
   },
   "outputs": [],
   "source": [
    "#@title Licensed under the Apache License, Version 2.0 (the \"License\");\n",
    "# you may not use this file except in compliance with the License.\n",
    "# You may obtain a copy of the License at\n",
    "#\n",
    "# https://www.apache.org/licenses/LICENSE-2.0\n",
    "#\n",
    "# Unless required by applicable law or agreed to in writing, software\n",
    "# distributed under the License is distributed on an \"AS IS\" BASIS,\n",
    "# WITHOUT WARRANTIES OR CONDITIONS OF ANY KIND, either express or implied.\n",
    "# See the License for the specific language governing permissions and\n",
    "# limitations under the License."
   ]
  },
  {
   "cell_type": "markdown",
   "metadata": {
    "colab_type": "text",
    "id": "wNBP_f0QUTfO"
   },
   "source": [
    "# Getting started with [TensorBoard.dev](https://tensorboard.dev)"
   ]
  },
  {
   "cell_type": "markdown",
   "metadata": {
    "colab_type": "text",
    "id": "DLXZ3t1PWdOp"
   },
   "source": [
    "[TensorBoard.dev](https://tensorboard.dev) is a free, public [TensorBoard](https://tensorflow.org/tensorboard) service that enables you to upload and share your ML experiments with everyone.\n",
    "\n",
    "This notebook trains a simple model and shows how to upload the logs to TensorBoard.dev."
   ]
  },
  {
   "cell_type": "markdown",
   "metadata": {
    "colab_type": "text",
    "id": "yjBn-ptXTppA"
   },
   "source": [
    "### Setup and imports\n",
    "\n",
    "This notebook uses TensorBoard features which are only available for versions >= `2.3.0`."
   ]
  },
  {
   "cell_type": "code",
   "execution_count": 1,
   "metadata": {
    "colab": {},
    "colab_type": "code",
    "id": "L3ns52Luracm"
   },
   "outputs": [
    {
     "name": "stdout",
     "output_type": "stream",
     "text": [
      "\u001b[33mYou are using pip version 19.0.3, however version 20.2.1 is available.\n",
      "You should consider upgrading via the 'pip install --upgrade pip' command.\u001b[0m\n"
     ]
    }
   ],
   "source": [
    "!pip install tensorboard>=2.3.0\n",
    "import tensorflow as tf\n",
    "import datetime"
   ]
  },
  {
   "cell_type": "markdown",
   "metadata": {
    "colab_type": "text",
    "id": "GqUABmUTT1Cl"
   },
   "source": [
    "### Train a simple model and create TensorBoard logs"
   ]
  },
  {
   "cell_type": "code",
   "execution_count": 2,
   "metadata": {
    "colab": {},
    "colab_type": "code",
    "id": "LZExSr2Qrc5S"
   },
   "outputs": [],
   "source": [
    "mnist = tf.keras.datasets.mnist\n",
    "\n",
    "(x_train, y_train),(x_test, y_test) = mnist.load_data()\n",
    "x_train, x_test = x_train / 255.0, x_test / 255.0\n",
    "\n",
    "def create_model():\n",
    "  return tf.keras.models.Sequential([\n",
    "    tf.keras.layers.Flatten(input_shape=(28, 28)),\n",
    "    tf.keras.layers.Dense(512, activation='relu'),\n",
    "    tf.keras.layers.Dropout(0.2),\n",
    "    tf.keras.layers.Dense(10, activation='softmax')\n",
    "  ])"
   ]
  },
  {
   "cell_type": "code",
   "execution_count": 3,
   "metadata": {
    "colab": {},
    "colab_type": "code",
    "id": "dsVjm5CrUtXm"
   },
   "outputs": [
    {
     "name": "stdout",
     "output_type": "stream",
     "text": [
      "Epoch 1/5\n",
      "   1/1875 [..............................] - ETA: 0s - loss: 2.3227 - accuracy: 0.2188WARNING:tensorflow:From /Users/bileschi/venv/jup/lib/python3.7/site-packages/tensorflow/python/ops/summary_ops_v2.py:1277: stop (from tensorflow.python.eager.profiler) is deprecated and will be removed after 2020-07-01.\n",
      "Instructions for updating:\n",
      "use `tf.profiler.experimental.stop` instead.\n",
      "WARNING:tensorflow:Callbacks method `on_train_batch_end` is slow compared to the batch time (batch time: 0.0033s vs `on_train_batch_end` time: 0.0290s). Check your callbacks.\n",
      "1875/1875 [==============================] - 5s 3ms/step - loss: 0.2197 - accuracy: 0.9352 - val_loss: 0.1108 - val_accuracy: 0.9660\n",
      "Epoch 2/5\n",
      "1875/1875 [==============================] - 5s 3ms/step - loss: 0.0980 - accuracy: 0.9704 - val_loss: 0.0823 - val_accuracy: 0.9740\n",
      "Epoch 3/5\n",
      "1875/1875 [==============================] - 5s 3ms/step - loss: 0.0694 - accuracy: 0.9786 - val_loss: 0.0738 - val_accuracy: 0.9765\n",
      "Epoch 4/5\n",
      "1875/1875 [==============================] - 5s 3ms/step - loss: 0.0524 - accuracy: 0.9834 - val_loss: 0.0689 - val_accuracy: 0.9801\n",
      "Epoch 5/5\n",
      "1875/1875 [==============================] - 5s 3ms/step - loss: 0.0421 - accuracy: 0.9863 - val_loss: 0.0683 - val_accuracy: 0.9805\n"
     ]
    },
    {
     "data": {
      "text/plain": [
       "<tensorflow.python.keras.callbacks.History at 0x1472f0a90>"
      ]
     },
     "execution_count": 3,
     "metadata": {},
     "output_type": "execute_result"
    }
   ],
   "source": [
    "model = create_model()\n",
    "model.compile(\n",
    "    optimizer='adam',\n",
    "    loss='sparse_categorical_crossentropy',\n",
    "    metrics=['accuracy'])\n",
    "\n",
    "log_dir=\"logs/fit/\" + datetime.datetime.now().strftime(\"%Y%m%d-%H%M%S\")\n",
    "tensorboard_callback = tf.keras.callbacks.TensorBoard(\n",
    "    log_dir=log_dir, histogram_freq=1)\n",
    "\n",
    "model.fit(\n",
    "    x=x_train, \n",
    "    y=y_train, \n",
    "    epochs=5, \n",
    "    validation_data=(x_test, y_test), \n",
    "    callbacks=[tensorboard_callback])"
   ]
  },
  {
   "cell_type": "markdown",
   "metadata": {
    "colab_type": "text",
    "id": "TgF35qdzIC3T"
   },
   "source": [
    "### (Jupyter only)  Authorize TensorBoard.dev\n",
    "\n",
    "**This step is not necessary in Colab**\n",
    "\n",
    "This step requires you to auth in your shell console, outside of Jupyter.  In your console, execute the following command\n",
    "\n",
    "`tensorboard dev list`\n",
    "\n",
    "As part of this flow, you will be provided with an authorization code. This code is required to consent to the Terms of Service."
   ]
  },
  {
   "cell_type": "markdown",
   "metadata": {
    "colab_type": "text",
    "id": "TgF35qdzIC3T"
   },
   "source": [
    "### Upload to TensorBoard.dev\n",
    "\n",
    "Uploading the TensorBoard logs will give you a URL that can be shared with anyone.\n",
    "\n",
    "Uploaded TensorBoards are public, so do not upload sensitive data.\n",
    "\n",
    "The uploader will exit when the entire logdir has uploaded.  (This is what the `--one_shot` flag specifies)."
   ]
  },
  {
   "cell_type": "code",
   "execution_count": 4,
   "metadata": {
    "colab": {},
    "colab_type": "code",
    "id": "n2PvxhOkW7vn"
   },
   "outputs": [
    {
     "name": "stdout",
     "output_type": "stream",
     "text": [
      "Data for the \"graphs\" plugin is now uploaded to TensorBoard.dev! Note that uploaded data is public. If you do not want to upload data for this plugin, use the \"--plugins\" command line argument.\n",
      "Data for the \"histograms\" plugin is now uploaded to TensorBoard.dev! Note that uploaded data is public. If you do not want to upload data for this plugin, use the \"--plugins\" command line argument.\n",
      "Upload started and will continue reading any new data as it's added\n",
      "to the logdir. To stop uploading, press Ctrl-C.\n",
      "\n",
      "View your TensorBoard live at: https://tensorboard.dev/experiment/y3F4f7quRr2Nf9WGrj0g2A/\n",
      "\n",
      "\u001b[1m[2020-08-06T15:42:23]\u001b[0m Uploader started.\n",
      "\u001b[1m[2020-08-06T15:42:26]\u001b[0m Total uploaded: 40 scalars, 40 tensors (67.2 kB), 2 binary objects (9.5 kB)\n",
      "\u001b[2K\u001b[33mListening for new data in logdir...\u001b[0m\n",
      "Done. View your TensorBoard at https://tensorboard.dev/experiment/y3F4f7quRr2Nf9WGrj0g2A/\n"
     ]
    }
   ],
   "source": [
    "!tensorboard dev upload --logdir ./logs \\\n",
    "  --name \"Simple experiment with MNIST\" \\\n",
    "  --description \"Training results from https://colab.sandbox.google.com/github/tensorflow/tensorboard/blob/master/docs/tbdev_getting_started.ipynb\" \\\n",
    "  --one_shot"
   ]
  },
  {
   "cell_type": "markdown",
   "metadata": {
    "colab_type": "text",
    "id": "5QH5k4AUNE27"
   },
   "source": [
    "Each experiment you upload has a unique experiment ID.  Even if you start a new upload with the same directory, you will get a new experiment ID. You can list all the experiments you have uploaded using \n",
    "```\n",
    "tensorboard dev list\n",
    "```"
   ]
  },
  {
   "cell_type": "code",
   "execution_count": 5,
   "metadata": {
    "colab": {},
    "colab_type": "code",
    "id": "C2Pj3RQCNQvP"
   },
   "outputs": [
    {
     "name": "stdout",
     "output_type": "stream",
     "text": [
      "Data for the \"graphs\" plugin is now uploaded to TensorBoard.dev! Note that uploaded data is public. If you do not want to upload data for this plugin, use the \"--plugins\" command line argument.\n",
      "Data for the \"histograms\" plugin is now uploaded to TensorBoard.dev! Note that uploaded data is public. If you do not want to upload data for this plugin, use the \"--plugins\" command line argument.\n",
      "https://tensorboard.dev/experiment/y3F4f7quRr2Nf9WGrj0g2A/\n",
      "\tName                 Simple experiment with MNIST\n",
      "\tDescription          Training results from https://colab.sandbox.google.com/github/tensorflow/tensorboard/blob/master/docs/tbdev_getting_started.ipynb\n",
      "\tId                   y3F4f7quRr2Nf9WGrj0g2A\n",
      "\tCreated              2020-08-06 15:42:23 (2 minutes ago)\n",
      "\tUpdated              2020-08-06 15:42:26 (2 minutes ago)\n",
      "\tRuns                 4\n",
      "\tTags                 7\n",
      "\tScalars              40\n",
      "\tTensor bytes         71968\n",
      "\tBinary object bytes  10068\n",
      "https://tensorboard.dev/experiment/0JM36OCMQXKgkxlT7jo2ag/\n",
      "\tName                 Simple experiment with MNIST\n",
      "\tDescription          Training results from https://colab.sandbox.google.com/github/tensorflow/tensorboard/blob/master/docs/tbdev_getting_started.ipynb\n",
      "\tId                   0JM36OCMQXKgkxlT7jo2ag\n",
      "\tCreated              2020-07-30 15:32:49\n",
      "\tUpdated              2020-07-30 15:32:51\n",
      "\tRuns                 2\n",
      "\tTags                 7\n",
      "\tScalars              20\n",
      "\tTensor bytes         35822\n",
      "\tBinary object bytes  5034\n",
      "https://tensorboard.dev/experiment/iG0rFAEwSr6p2ZBL5bnF7A/\n",
      "\tName                 Simple experiment with MNIST\n",
      "\tDescription          Training results from https://colab.sandbox.google.com/github/tensorflow/tensorboard/blob/master/docs/tbdev_getting_started.ipynb\n",
      "\tId                   iG0rFAEwSr6p2ZBL5bnF7A\n",
      "\tCreated              2020-07-30 14:31:23\n",
      "\tUpdated              2020-07-30 14:31:24\n",
      "\tRuns                 2\n",
      "\tTags                 7\n",
      "\tScalars              20\n",
      "\tTensor bytes         35822\n",
      "\tBinary object bytes  5034\n",
      "https://tensorboard.dev/experiment/O8joIVrAQoyEDzx8Aywtyg/\n",
      "\tName                 Simple experiment with MNIST\n",
      "\tDescription          Training results from https://colab.sandbox.google.com/github/tensorflow/tensorboard/blob/master/docs/tbdev_getting_started.ipynb\n",
      "\tId                   O8joIVrAQoyEDzx8Aywtyg\n",
      "\tCreated              2020-07-30 14:14:22\n",
      "\tUpdated              2020-07-30 14:14:23\n",
      "\tRuns                 2\n",
      "\tTags                 7\n",
      "\tScalars              20\n",
      "\tTensor bytes         36386\n",
      "\tBinary object bytes  5195\n",
      "https://tensorboard.dev/experiment/ijVJ4YcORvmX2xXG9ZM1UQ/\n",
      "\tName                 [No Name]\n",
      "\tDescription          [No Description]\n",
      "\tId                   ijVJ4YcORvmX2xXG9ZM1UQ\n",
      "\tCreated              2020-07-28 09:57:04\n",
      "\tUpdated              2020-07-28 09:57:04\n",
      "\tRuns                 1\n",
      "\tTags                 4\n",
      "\tScalars              63\n",
      "\tTensor bytes         86\n",
      "\tBinary object bytes  0\n",
      "https://tensorboard.dev/experiment/81ytQFQgS22xASn2KkPLJg/\n",
      "\tName                 [No Name]\n",
      "\tDescription          [No Description]\n",
      "\tId                   81ytQFQgS22xASn2KkPLJg\n",
      "\tCreated              2020-07-24 18:14:45\n",
      "\tUpdated              2020-07-24 18:16:10\n",
      "\tRuns                 1\n",
      "\tTags                 4\n",
      "\tScalars              72266\n",
      "\tTensor bytes         0\n",
      "\tBinary object bytes  0\n",
      "https://tensorboard.dev/experiment/1l3qgIoXTVi8w1K6wqq4fg/\n",
      "\tName                 [No Name]\n",
      "\tDescription          [No Description]\n",
      "\tId                   1l3qgIoXTVi8w1K6wqq4fg\n",
      "\tCreated              2020-07-24 17:03:28\n",
      "\tUpdated              2020-07-24 17:03:28\n",
      "\tRuns                 0\n",
      "\tTags                 0\n",
      "\tScalars              0\n",
      "\tTensor bytes         0\n",
      "\tBinary object bytes  0\n",
      "https://tensorboard.dev/experiment/WkoZ9bxVTYybFx2O1CeRqw/\n",
      "\tName                 [No Name]\n",
      "\tDescription          [No Description]\n",
      "\tId                   WkoZ9bxVTYybFx2O1CeRqw\n",
      "\tCreated              2020-07-24 17:01:54\n",
      "\tUpdated              2020-07-24 17:03:12\n",
      "\tRuns                 1\n",
      "\tTags                 4\n",
      "\tScalars              72266\n",
      "\tTensor bytes         0\n",
      "\tBinary object bytes  0\n",
      "https://tensorboard.dev/experiment/ieNqGpvPTJaj87ZhmqWDLg/\n",
      "\tName                 [No Name]\n",
      "\tDescription          [No Description]\n",
      "\tId                   ieNqGpvPTJaj87ZhmqWDLg\n",
      "\tCreated              2020-07-14 16:46:55\n",
      "\tUpdated              2020-07-14 16:47:22\n",
      "\tRuns                 1\n",
      "\tTags                 4\n",
      "\tScalars              1885\n",
      "\tTensor bytes         0\n",
      "\tBinary object bytes  0\n",
      "https://tensorboard.dev/experiment/w7m5iKMMRhK2sWOKOl02Gw/\n",
      "\tName                 [No Name]\n",
      "\tDescription          [No Description]\n",
      "\tId                   w7m5iKMMRhK2sWOKOl02Gw\n",
      "\tCreated              2020-07-10 17:45:22\n",
      "\tUpdated              2020-07-10 17:45:28\n",
      "\tRuns                 4\n",
      "\tTags                 4\n",
      "\tScalars              4715\n",
      "\tTensor bytes         0\n",
      "\tBinary object bytes  12443\n",
      "https://tensorboard.dev/experiment/kBj3qvouQl6RkYrTO5Z4Zg/\n",
      "\tName                 [No Name]\n",
      "\tDescription          [No Description]\n",
      "\tId                   kBj3qvouQl6RkYrTO5Z4Zg\n",
      "\tCreated              2020-06-08 19:35:51\n",
      "\tUpdated              2020-06-08 19:35:51\n",
      "\tRuns                 0\n",
      "\tTags                 0\n",
      "\tScalars              0\n",
      "\tTensor bytes         0\n",
      "\tBinary object bytes  0\n",
      "https://tensorboard.dev/experiment/JyG8heqURr2wsJXcazrmHw/\n",
      "\tName                 [No Name]\n",
      "\tDescription          [No Description]\n",
      "\tId                   JyG8heqURr2wsJXcazrmHw\n",
      "\tCreated              2020-05-28 15:22:55\n",
      "\tUpdated              2020-05-28 15:23:15\n",
      "\tRuns                 38\n",
      "\tTags                 21\n",
      "\tScalars              9230\n",
      "\tTensor bytes         2250569\n",
      "\tBinary object bytes  118240\n",
      "https://tensorboard.dev/experiment/w9EgyUZLQLOjQVedxidCvg/\n",
      "\tName                 [No Name]\n",
      "\tDescription          [No Description]\n",
      "\tId                   w9EgyUZLQLOjQVedxidCvg\n",
      "\tCreated              2020-05-28 14:44:00\n",
      "\tUpdated              2020-05-28 14:44:59\n",
      "\tRuns                 18\n",
      "\tTags                 4\n",
      "\tScalars              54000\n",
      "\tTensor bytes         0\n",
      "\tBinary object bytes  74178\n",
      "https://tensorboard.dev/experiment/Wn6AvNURQO22PIBg4Y4x7g/\n",
      "\tName                 📊📊histogram launched!  📊📊\n",
      "\tDescription          [No Description]\n",
      "\tId                   Wn6AvNURQO22PIBg4Y4x7g\n",
      "\tCreated              2020-05-28 13:51:53\n",
      "\tUpdated              2020-05-28 13:51:58\n",
      "\tRuns                 1\n",
      "\tTags                 7\n",
      "\tScalars              0\n",
      "\tTensor bytes         2279909\n",
      "\tBinary object bytes  0\n",
      "https://tensorboard.dev/experiment/k20BoZjhRV2IkKBefyYpGQ/\n",
      "\tName                 [No Name]\n",
      "\tDescription          [No Description]\n",
      "\tId                   k20BoZjhRV2IkKBefyYpGQ\n",
      "\tCreated              2020-05-19 16:58:20\n",
      "\tUpdated              2020-05-19 16:58:20\n",
      "\tRuns                 0\n",
      "\tTags                 0\n",
      "\tScalars              0\n",
      "\tTensor bytes         0\n",
      "\tBinary object bytes  0\n",
      "https://tensorboard.dev/experiment/T3SXaj0qRK6JsLLYk71vGg/\n",
      "\tName                 [No Name]\n",
      "\tDescription          [No Description]\n",
      "\tId                   T3SXaj0qRK6JsLLYk71vGg\n",
      "\tCreated              2020-05-19 16:17:45\n",
      "\tUpdated              2020-05-19 16:17:50\n",
      "\tRuns                 1\n",
      "\tTags                 7\n",
      "\tScalars              0\n",
      "\tTensor bytes         2279909\n",
      "\tBinary object bytes  0\n",
      "https://tensorboard.dev/experiment/dQn2iRyCQDuNnAEmN0dlVQ/\n",
      "\tName                 [No Name]\n",
      "\tDescription          [No Description]\n",
      "\tId                   dQn2iRyCQDuNnAEmN0dlVQ\n",
      "\tCreated              2020-05-19 15:56:11\n",
      "\tUpdated              2020-05-19 15:57:10\n",
      "\tRuns                 18\n",
      "\tTags                 4\n",
      "\tScalars              54000\n",
      "\tTensor bytes         0\n",
      "\tBinary object bytes  74178\n",
      "https://tensorboard.dev/experiment/P4Dnlq0QTLW1rlNjFdCRmg/\n",
      "\tName                 [No Name]\n",
      "\tDescription          [No Description]\n",
      "\tId                   P4Dnlq0QTLW1rlNjFdCRmg\n",
      "\tCreated              2020-05-19 14:46:13\n",
      "\tUpdated              2020-05-19 14:47:11\n",
      "\tRuns                 18\n",
      "\tTags                 4\n",
      "\tScalars              54000\n",
      "\tTensor bytes         0\n",
      "\tBinary object bytes  74178\n",
      "https://tensorboard.dev/experiment/uDFw52rhRmqC9inemCamCw/\n",
      "\tName                 [No Name]\n",
      "\tDescription          [No Description]\n",
      "\tId                   uDFw52rhRmqC9inemCamCw\n",
      "\tCreated              2020-05-13 10:29:41\n",
      "\tUpdated              2020-05-13 10:47:32\n",
      "\tRuns                 4\n",
      "\tTags                 16\n",
      "\tScalars              0\n",
      "\tTensor bytes         28802506\n",
      "\tBinary object bytes  0\n",
      "https://tensorboard.dev/experiment/Jy9ds19XTn6g0CWmx5YYrg/\n",
      "\tName                 [No Name]\n",
      "\tDescription          [No Description]\n",
      "\tId                   Jy9ds19XTn6g0CWmx5YYrg\n",
      "\tCreated              2020-05-12 14:10:54\n",
      "\tUpdated              2020-05-12 14:11:56\n",
      "\tRuns                 18\n",
      "\tTags                 4\n",
      "\tScalars              54000\n",
      "\tTensor bytes         0\n",
      "\tBinary object bytes  74178\n",
      "https://tensorboard.dev/experiment/pLVlKaSxQ6qdiKrJ6JOZoQ/\n",
      "\tName                 [No Name]\n",
      "\tDescription          [No Description]\n",
      "\tId                   pLVlKaSxQ6qdiKrJ6JOZoQ\n",
      "\tCreated              2020-05-11 17:11:06\n",
      "\tUpdated              2020-05-11 17:12:05\n",
      "\tRuns                 18\n",
      "\tTags                 4\n",
      "\tScalars              54000\n",
      "\tTensor bytes         0\n",
      "\tBinary object bytes  74178\n",
      "https://tensorboard.dev/experiment/0Yt2oZuvRiKvqUnKZVmYQg/\n",
      "\tName                 hello perception\n",
      "\tDescription          [No Description]\n",
      "\tId                   0Yt2oZuvRiKvqUnKZVmYQg\n",
      "\tCreated              2020-05-11 10:45:30\n",
      "\tUpdated              2020-05-11 16:45:11\n",
      "\tRuns                 1\n",
      "\tTags                 7\n",
      "\tScalars              0\n",
      "\tTensor bytes         975909\n",
      "\tBinary object bytes  0\n",
      "Total: 22 experiment(s)\n"
     ]
    }
   ],
   "source": [
    "!tensorboard dev list"
   ]
  },
  {
   "cell_type": "markdown",
   "metadata": {
    "colab_type": "text",
    "id": "JcZOGmjQNWk_"
   },
   "source": [
    "To remove an experiment you have uploaded, you may use the `delete` command and specifiy the appropriate experiment_id."
   ]
  },
  {
   "cell_type": "code",
   "execution_count": 6,
   "metadata": {
    "colab": {},
    "colab_type": "code",
    "id": "VSkJTT9rNWJq"
   },
   "outputs": [],
   "source": [
    "# You must replace YOUR_EXPERIMENT_ID with the value output from the previous\n",
    "# tensorboard `list` command or `upload` command.  For example\n",
    "# `tensorboard dev delete --experiment_id pQpJNh00RG2Lf1zOe9BrQA`\n",
    "\n",
    "## !tensorboard dev delete --experiment_id YOUR_EXPERIMENT_ID_HERE"
   ]
  },
  {
   "cell_type": "code",
   "execution_count": null,
   "metadata": {},
   "outputs": [],
   "source": []
  }
 ],
 "metadata": {
  "colab": {
   "collapsed_sections": [],
   "name": "tbdev_getting_started.ipynb",
   "provenance": [],
   "toc_visible": true
  },
  "kernelspec": {
   "display_name": "Python 3",
   "language": "python",
   "name": "python3"
  },
  "language_info": {
   "codemirror_mode": {
    "name": "ipython",
    "version": 3
   },
   "file_extension": ".py",
   "mimetype": "text/x-python",
   "name": "python",
   "nbconvert_exporter": "python",
   "pygments_lexer": "ipython3",
   "version": "3.7.3"
  }
 },
 "nbformat": 4,
 "nbformat_minor": 4
}
